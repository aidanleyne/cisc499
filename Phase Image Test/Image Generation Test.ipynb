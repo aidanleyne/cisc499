{
 "cells": [
  {
   "cell_type": "code",
   "execution_count": 1,
   "id": "70f4ebf8-1ee2-44be-94bb-9f8c6ba9bbfe",
   "metadata": {},
   "outputs": [],
   "source": [
    "from PIL import Image\n",
    "\n",
    "keystroke_file = open(\"36_keystrokes.txt\", 'r')\n",
    "events = []\n",
    "\n",
    "for line in keystroke_file.readlines()[2:]:\n",
    "    arr = line.split('\\t')\n",
    "    events.append(arr[5])\n",
    "    events.append(arr[6])\n",
    "    \n",
    "ef = events[0:600]\n",
    "\n",
    "image = Image.new('L', (600, 481))\n",
    "\n",
    "for hz in range(20,501):\n",
    "    for i in range(len(ef)):\n",
    "        value = int(ef[i])%(1000/hz)\n",
    "        image.putpixel((i,hz-20), int((value/(1000/hz))*255))\n",
    "\n",
    "image.save(\"pi.png\")"
   ]
  },
  {
   "cell_type": "code",
   "execution_count": null,
   "id": "8433606d-9594-4432-8ef8-8d756e1a8119",
   "metadata": {},
   "outputs": [],
   "source": []
  }
 ],
 "metadata": {
  "kernelspec": {
   "display_name": "Python 3 (ipykernel)",
   "language": "python",
   "name": "python3"
  },
  "language_info": {
   "codemirror_mode": {
    "name": "ipython",
    "version": 3
   },
   "file_extension": ".py",
   "mimetype": "text/x-python",
   "name": "python",
   "nbconvert_exporter": "python",
   "pygments_lexer": "ipython3",
   "version": "3.10.0"
  }
 },
 "nbformat": 4,
 "nbformat_minor": 5
}
