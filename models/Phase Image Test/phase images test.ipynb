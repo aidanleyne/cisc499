{
 "cells": [
  {
   "cell_type": "code",
   "execution_count": 2,
   "id": "57bcc1ee-0216-4365-be5f-ee4a5baa7465",
   "metadata": {},
   "outputs": [],
   "source": [
    "import numpy as np\n",
    "import pandas as pd "
   ]
  },
  {
   "cell_type": "code",
   "execution_count": 3,
   "id": "0ac1099e-3887-4420-8834-213b7f8f7542",
   "metadata": {},
   "outputs": [
    {
     "name": "stdout",
     "output_type": "stream",
     "text": [
      "   PARTICIPANT_ID  TEST_SECTION_ID  \\\n",
      "0          517947          5579521   \n",
      "1          517947          5579521   \n",
      "2          517947          5579521   \n",
      "3          517947          5579521   \n",
      "4          517947          5579521   \n",
      "\n",
      "                                       SENTENCE  \\\n",
      "0  Deportivo have won nothing in their history.   \n",
      "1  Deportivo have won nothing in their history.   \n",
      "2  Deportivo have won nothing in their history.   \n",
      "3  Deportivo have won nothing in their history.   \n",
      "4  Deportivo have won nothing in their history.   \n",
      "\n",
      "                                     USER_INPUT  KEYSTROKE_ID     PRESS_TIME  \\\n",
      "0  Deportivo have won nothing in their history.     264852711  1479124470753   \n",
      "1  Deportivo have won nothing in their history.     264852710  1479124470987   \n",
      "2  Deportivo have won nothing in their history.     264852712  1479124471193   \n",
      "3  Deportivo have won nothing in their history.     264852713  1479124471348   \n",
      "4  Deportivo have won nothing in their history.     264852714  1479124471538   \n",
      "\n",
      "    RELEASE_TIME LETTER  KEYCODE  \n",
      "0  1479124471115  SHIFT       16  \n",
      "1  1479124471052      D       68  \n",
      "2  1479124471254      e       69  \n",
      "3  1479124471433      p       80  \n",
      "4  1479124471633      o       79  \n"
     ]
    }
   ],
   "source": [
    "# Assuming your file has the extension .txt and is tab-separated\n",
    "file_path = '517947_keystrokes.txt'\n",
    "# Read the file\n",
    "df = pd.read_csv(file_path, sep='\\t')\n",
    "# Display the first few rows of the DataFrame\n",
    "print(df.head())"
   ]
  },
  {
   "cell_type": "code",
   "execution_count": 6,
   "id": "3bf5ccdf-ae7f-43b6-a8e9-f828bc990c52",
   "metadata": {},
   "outputs": [
    {
     "data": {
      "text/plain": [
       "2"
      ]
     },
     "execution_count": 6,
     "metadata": {},
     "output_type": "execute_result"
    }
   ],
   "source": []
  },
  {
   "cell_type": "code",
   "execution_count": 7,
   "id": "7be3ec9c-0c8a-457b-b1db-1aa821524171",
   "metadata": {},
   "outputs": [
    {
     "data": {
      "text/html": [
       "<div>\n",
       "<style scoped>\n",
       "    .dataframe tbody tr th:only-of-type {\n",
       "        vertical-align: middle;\n",
       "    }\n",
       "\n",
       "    .dataframe tbody tr th {\n",
       "        vertical-align: top;\n",
       "    }\n",
       "\n",
       "    .dataframe thead th {\n",
       "        text-align: right;\n",
       "    }\n",
       "</style>\n",
       "<table border=\"1\" class=\"dataframe\">\n",
       "  <thead>\n",
       "    <tr style=\"text-align: right;\">\n",
       "      <th></th>\n",
       "      <th>PARTICIPANT_ID</th>\n",
       "      <th>TEST_SECTION_ID</th>\n",
       "      <th>SENTENCE</th>\n",
       "      <th>USER_INPUT</th>\n",
       "      <th>KEYSTROKE_ID</th>\n",
       "      <th>PRESS_TIME</th>\n",
       "      <th>RELEASE_TIME</th>\n",
       "      <th>LETTER</th>\n",
       "      <th>KEYCODE</th>\n",
       "    </tr>\n",
       "  </thead>\n",
       "  <tbody>\n",
       "    <tr>\n",
       "      <th>0</th>\n",
       "      <td>517947</td>\n",
       "      <td>5579521</td>\n",
       "      <td>Deportivo have won nothing in their history.</td>\n",
       "      <td>Deportivo have won nothing in their history.</td>\n",
       "      <td>264852711</td>\n",
       "      <td>1479124470753</td>\n",
       "      <td>1479124471115</td>\n",
       "      <td>SHIFT</td>\n",
       "      <td>16</td>\n",
       "    </tr>\n",
       "    <tr>\n",
       "      <th>1</th>\n",
       "      <td>517947</td>\n",
       "      <td>5579521</td>\n",
       "      <td>Deportivo have won nothing in their history.</td>\n",
       "      <td>Deportivo have won nothing in their history.</td>\n",
       "      <td>264852710</td>\n",
       "      <td>1479124470987</td>\n",
       "      <td>1479124471052</td>\n",
       "      <td>D</td>\n",
       "      <td>68</td>\n",
       "    </tr>\n",
       "    <tr>\n",
       "      <th>2</th>\n",
       "      <td>517947</td>\n",
       "      <td>5579521</td>\n",
       "      <td>Deportivo have won nothing in their history.</td>\n",
       "      <td>Deportivo have won nothing in their history.</td>\n",
       "      <td>264852712</td>\n",
       "      <td>1479124471193</td>\n",
       "      <td>1479124471254</td>\n",
       "      <td>e</td>\n",
       "      <td>69</td>\n",
       "    </tr>\n",
       "    <tr>\n",
       "      <th>3</th>\n",
       "      <td>517947</td>\n",
       "      <td>5579521</td>\n",
       "      <td>Deportivo have won nothing in their history.</td>\n",
       "      <td>Deportivo have won nothing in their history.</td>\n",
       "      <td>264852713</td>\n",
       "      <td>1479124471348</td>\n",
       "      <td>1479124471433</td>\n",
       "      <td>p</td>\n",
       "      <td>80</td>\n",
       "    </tr>\n",
       "    <tr>\n",
       "      <th>4</th>\n",
       "      <td>517947</td>\n",
       "      <td>5579521</td>\n",
       "      <td>Deportivo have won nothing in their history.</td>\n",
       "      <td>Deportivo have won nothing in their history.</td>\n",
       "      <td>264852714</td>\n",
       "      <td>1479124471538</td>\n",
       "      <td>1479124471633</td>\n",
       "      <td>o</td>\n",
       "      <td>79</td>\n",
       "    </tr>\n",
       "    <tr>\n",
       "      <th>...</th>\n",
       "      <td>...</td>\n",
       "      <td>...</td>\n",
       "      <td>...</td>\n",
       "      <td>...</td>\n",
       "      <td>...</td>\n",
       "      <td>...</td>\n",
       "      <td>...</td>\n",
       "      <td>...</td>\n",
       "      <td>...</td>\n",
       "    </tr>\n",
       "    <tr>\n",
       "      <th>887</th>\n",
       "      <td>517947</td>\n",
       "      <td>5579604</td>\n",
       "      <td>Will you and KB be around this afternoon?</td>\n",
       "      <td>Will you and KB be around this afternoon?</td>\n",
       "      <td>264856890</td>\n",
       "      <td>1479124638058</td>\n",
       "      <td>1479124638126</td>\n",
       "      <td>o</td>\n",
       "      <td>79</td>\n",
       "    </tr>\n",
       "    <tr>\n",
       "      <th>888</th>\n",
       "      <td>517947</td>\n",
       "      <td>5579604</td>\n",
       "      <td>Will you and KB be around this afternoon?</td>\n",
       "      <td>Will you and KB be around this afternoon?</td>\n",
       "      <td>264856898</td>\n",
       "      <td>1479124638205</td>\n",
       "      <td>1479124638316</td>\n",
       "      <td>o</td>\n",
       "      <td>79</td>\n",
       "    </tr>\n",
       "    <tr>\n",
       "      <th>889</th>\n",
       "      <td>517947</td>\n",
       "      <td>5579604</td>\n",
       "      <td>Will you and KB be around this afternoon?</td>\n",
       "      <td>Will you and KB be around this afternoon?</td>\n",
       "      <td>264856900</td>\n",
       "      <td>1479124638264</td>\n",
       "      <td>1479124638347</td>\n",
       "      <td>n</td>\n",
       "      <td>78</td>\n",
       "    </tr>\n",
       "    <tr>\n",
       "      <th>890</th>\n",
       "      <td>517947</td>\n",
       "      <td>5579604</td>\n",
       "      <td>Will you and KB be around this afternoon?</td>\n",
       "      <td>Will you and KB be around this afternoon?</td>\n",
       "      <td>264856904</td>\n",
       "      <td>1479124638504</td>\n",
       "      <td>1479124638822</td>\n",
       "      <td>SHIFT</td>\n",
       "      <td>16</td>\n",
       "    </tr>\n",
       "    <tr>\n",
       "      <th>891</th>\n",
       "      <td>517947</td>\n",
       "      <td>5579604</td>\n",
       "      <td>Will you and KB be around this afternoon?</td>\n",
       "      <td>Will you and KB be around this afternoon?</td>\n",
       "      <td>264856902</td>\n",
       "      <td>1479124638621</td>\n",
       "      <td>1479124638760</td>\n",
       "      <td>?</td>\n",
       "      <td>191</td>\n",
       "    </tr>\n",
       "  </tbody>\n",
       "</table>\n",
       "<p>892 rows × 9 columns</p>\n",
       "</div>"
      ],
      "text/plain": [
       "     PARTICIPANT_ID  TEST_SECTION_ID  \\\n",
       "0            517947          5579521   \n",
       "1            517947          5579521   \n",
       "2            517947          5579521   \n",
       "3            517947          5579521   \n",
       "4            517947          5579521   \n",
       "..              ...              ...   \n",
       "887          517947          5579604   \n",
       "888          517947          5579604   \n",
       "889          517947          5579604   \n",
       "890          517947          5579604   \n",
       "891          517947          5579604   \n",
       "\n",
       "                                         SENTENCE  \\\n",
       "0    Deportivo have won nothing in their history.   \n",
       "1    Deportivo have won nothing in their history.   \n",
       "2    Deportivo have won nothing in their history.   \n",
       "3    Deportivo have won nothing in their history.   \n",
       "4    Deportivo have won nothing in their history.   \n",
       "..                                            ...   \n",
       "887     Will you and KB be around this afternoon?   \n",
       "888     Will you and KB be around this afternoon?   \n",
       "889     Will you and KB be around this afternoon?   \n",
       "890     Will you and KB be around this afternoon?   \n",
       "891     Will you and KB be around this afternoon?   \n",
       "\n",
       "                                       USER_INPUT  KEYSTROKE_ID  \\\n",
       "0    Deportivo have won nothing in their history.     264852711   \n",
       "1    Deportivo have won nothing in their history.     264852710   \n",
       "2    Deportivo have won nothing in their history.     264852712   \n",
       "3    Deportivo have won nothing in their history.     264852713   \n",
       "4    Deportivo have won nothing in their history.     264852714   \n",
       "..                                            ...           ...   \n",
       "887     Will you and KB be around this afternoon?     264856890   \n",
       "888     Will you and KB be around this afternoon?     264856898   \n",
       "889     Will you and KB be around this afternoon?     264856900   \n",
       "890     Will you and KB be around this afternoon?     264856904   \n",
       "891     Will you and KB be around this afternoon?     264856902   \n",
       "\n",
       "        PRESS_TIME   RELEASE_TIME LETTER  KEYCODE  \n",
       "0    1479124470753  1479124471115  SHIFT       16  \n",
       "1    1479124470987  1479124471052      D       68  \n",
       "2    1479124471193  1479124471254      e       69  \n",
       "3    1479124471348  1479124471433      p       80  \n",
       "4    1479124471538  1479124471633      o       79  \n",
       "..             ...            ...    ...      ...  \n",
       "887  1479124638058  1479124638126      o       79  \n",
       "888  1479124638205  1479124638316      o       79  \n",
       "889  1479124638264  1479124638347      n       78  \n",
       "890  1479124638504  1479124638822  SHIFT       16  \n",
       "891  1479124638621  1479124638760      ?      191  \n",
       "\n",
       "[892 rows x 9 columns]"
      ]
     },
     "execution_count": 7,
     "metadata": {},
     "output_type": "execute_result"
    }
   ],
   "source": [
    "df"
   ]
  },
  {
   "cell_type": "code",
   "execution_count": 8,
   "id": "3d350fb1-54c9-49e1-bb6e-ca39e5fb3092",
   "metadata": {},
   "outputs": [],
   "source": [
    "image1 = df.iloc[0:419]\n",
    "image2 = df.iloc[419:]"
   ]
  },
  {
   "cell_type": "code",
   "execution_count": 18,
   "id": "0e257029-a4d9-4402-9ef8-b0de590a0fde",
   "metadata": {},
   "outputs": [],
   "source": [
    "on_events = image1[\"PRESS_TIME\"]\n",
    "off_events = image1[\"RELEASE_TIME\"]"
   ]
  },
  {
   "cell_type": "code",
   "execution_count": 17,
   "id": "0c818475-fb54-4d4b-aa4d-eaff37826d5e",
   "metadata": {},
   "outputs": [
    {
     "name": "stdout",
     "output_type": "stream",
     "text": [
      "500\n"
     ]
    }
   ],
   "source": [
    "for i in range(20,501):\n",
    "    for "
   ]
  },
  {
   "cell_type": "code",
   "execution_count": 20,
   "id": "7aba0f24-d406-4aaf-be55-fa0adde93983",
   "metadata": {},
   "outputs": [
    {
     "data": {
      "text/plain": [
       "419"
      ]
     },
     "execution_count": 20,
     "metadata": {},
     "output_type": "execute_result"
    }
   ],
   "source": [
    "len(off_events)"
   ]
  },
  {
   "cell_type": "code",
   "execution_count": null,
   "id": "70f4ebf8-1ee2-44be-94bb-9f8c6ba9bbfe",
   "metadata": {},
   "outputs": [],
   "source": []
  }
 ],
 "metadata": {
  "kernelspec": {
   "display_name": "Python 3 (ipykernel)",
   "language": "python",
   "name": "python3"
  },
  "language_info": {
   "codemirror_mode": {
    "name": "ipython",
    "version": 3
   },
   "file_extension": ".py",
   "mimetype": "text/x-python",
   "name": "python",
   "nbconvert_exporter": "python",
   "pygments_lexer": "ipython3",
   "version": "3.10.0"
  }
 },
 "nbformat": 4,
 "nbformat_minor": 5
}
