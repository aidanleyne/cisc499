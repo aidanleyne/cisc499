{
 "cells": [
  {
   "cell_type": "markdown",
   "id": "510043fe",
   "metadata": {},
   "source": [
    "# Setup"
   ]
  },
  {
   "cell_type": "code",
   "execution_count": 1,
   "id": "18510b3e",
   "metadata": {},
   "outputs": [
    {
     "name": "stderr",
     "output_type": "stream",
     "text": [
      "2024-04-11 20:19:08.850550: I tensorflow/core/util/port.cc:113] oneDNN custom operations are on. You may see slightly different numerical results due to floating-point round-off errors from different computation orders. To turn them off, set the environment variable `TF_ENABLE_ONEDNN_OPTS=0`.\n",
      "2024-04-11 20:19:08.894648: E external/local_xla/xla/stream_executor/cuda/cuda_dnn.cc:9261] Unable to register cuDNN factory: Attempting to register factory for plugin cuDNN when one has already been registered\n",
      "2024-04-11 20:19:08.894677: E external/local_xla/xla/stream_executor/cuda/cuda_fft.cc:607] Unable to register cuFFT factory: Attempting to register factory for plugin cuFFT when one has already been registered\n",
      "2024-04-11 20:19:08.896111: E external/local_xla/xla/stream_executor/cuda/cuda_blas.cc:1515] Unable to register cuBLAS factory: Attempting to register factory for plugin cuBLAS when one has already been registered\n",
      "2024-04-11 20:19:08.903492: I tensorflow/core/platform/cpu_feature_guard.cc:182] This TensorFlow binary is optimized to use available CPU instructions in performance-critical operations.\n",
      "To enable the following instructions: AVX2 AVX512F AVX512_VNNI FMA, in other operations, rebuild TensorFlow with the appropriate compiler flags.\n",
      "2024-04-11 20:19:09.646803: W tensorflow/compiler/tf2tensorrt/utils/py_utils.cc:38] TF-TRT Warning: Could not find TensorRT\n",
      "/home/jovyan/virtualENV/lib/python3.9/site-packages/tensorflow_addons/utils/tfa_eol_msg.py:23: UserWarning: \n",
      "\n",
      "TensorFlow Addons (TFA) has ended development and introduction of new features.\n",
      "TFA has entered a minimal maintenance and release mode until a planned end of life in May 2024.\n",
      "Please modify downstream libraries to take dependencies from other repositories in our TensorFlow community (e.g. Keras, Keras-CV, and Keras-NLP). \n",
      "\n",
      "For more information see: https://github.com/tensorflow/addons/issues/2807 \n",
      "\n",
      "  warnings.warn(\n"
     ]
    }
   ],
   "source": [
    "import os\n",
    "import re\n",
    "import numpy as np\n",
    "import tensorflow as tf\n",
    "import tensorflow_addons as tfa\n",
    "os.environ['XLA_FLAGS'] = '--xla_gpu_cuda_data_dir=/opt/conda'"
   ]
  },
  {
   "cell_type": "markdown",
   "id": "75c3fb81",
   "metadata": {},
   "source": [
    "# Testing "
   ]
  },
  {
   "cell_type": "markdown",
   "id": "1045c5fd",
   "metadata": {},
   "source": [
    "#### Defining Functions "
   ]
  },
  {
   "cell_type": "code",
   "execution_count": 2,
   "id": "737595db",
   "metadata": {},
   "outputs": [],
   "source": [
    "def build_image_paths(folders):\n",
    "    # List of folders\n",
    "    # Create a list of image paths\n",
    "    image_paths = []\n",
    "    for folder in folders:\n",
    "        image_paths += [os.path.join(folder, fname) for fname in os.listdir(folder) if fname.endswith('.png')]\n",
    "    # Ensure the list is sorted\n",
    "    image_paths = sorted(image_paths)\n",
    "    return image_paths\n",
    "\n",
    "def preprocess_image(image_path):\n",
    "    image = tf.io.read_file(image_path)\n",
    "    image = tf.image.decode_png(image, channels=1)\n",
    "    image = tf.image.resize(image, [481, 600])  # Resize as expected by your model\n",
    "    image = tf.cast(image, tf.uint8)  # Ensure image is uint8\n",
    "    return image\n",
    "\n",
    "def load_and_preprocess_data(image_path):\n",
    "    image = preprocess_image(image_path)\n",
    "    label = tf_parse_label_from_path(image_path)\n",
    "    return image, label\n",
    "\n",
    "def tf_parse_label_from_path(path):\n",
    "    path_str = tf.strings.regex_replace(input=path, pattern=r'.*\\/(\\d+)_keystrokes.*', rewrite=r'\\1')\n",
    "    label = tf.strings.to_number(path_str, out_type=tf.int32)\n",
    "    label = tf.cast(label, tf.uint8)\n",
    "    return label\n",
    "\n",
    "def shuffle_batch(features, labels):\n",
    "    # Calculate batch size\n",
    "    batch_size = tf.shape(features)[0]\n",
    "    # Create an index to shuffle features and labels in the same order\n",
    "    shuffled_indices = tf.random.shuffle(tf.range(start=0, limit=batch_size))\n",
    "    # Apply gathered indices to shuffle the batch\n",
    "    shuffled_features = tf.gather(features, shuffled_indices)\n",
    "    shuffled_labels = tf.gather(labels, shuffled_indices)\n",
    "    return shuffled_features, shuffled_labels\n",
    "\n",
    "def augment(image, label, margin):\n",
    "    # Margin value is (1-probability) of image getting flipped so a margin of .95 equals a 5% chance of augmentation\n",
    "    # Code to flip image left or right\n",
    "    image = tf.cond(tf.random.uniform([], 0, 1) > margin, lambda: tf.image.random_flip_left_right(image), lambda: image)\n",
    "    # Code to flip image up or down \n",
    "    image = tf.cond(tf.random.uniform([], 0, 1) > margin, lambda: tf.image.random_flip_up_down(image), lambda: image)\n",
    "    return image, label\n",
    "\n",
    "def create_model():\n",
    "    # Creates an untrained FPNet \n",
    "    model = tf.keras.Sequential([\n",
    "    tf.keras.layers.Conv2D(filters=24, kernel_size=(1,3), activation='relu', input_shape=(481, 600, 1)),\n",
    "    tf.keras.layers.MaxPooling2D(pool_size=(1,2), strides=(1,2)),\n",
    "    tf.keras.layers.Conv2D(filters=32, kernel_size=(1,3), activation='relu'),\n",
    "    tf.keras.layers.MaxPooling2D(pool_size=(1,2), strides=(1,2), padding='same'),\n",
    "    tf.keras.layers.Conv2D(filters=64, kernel_size=(1,3), activation='relu'),\n",
    "    tf.keras.layers.MaxPooling2D(pool_size=(1,2), strides=(1,2), padding='same'),\n",
    "    tf.keras.layers.Conv2D(filters=64, kernel_size=(1,3), activation='relu'),\n",
    "    tf.keras.layers.MaxPooling2D(pool_size=(1,2), strides=(1,2), padding='same'),\n",
    "    tf.keras.layers.Conv2D(filters=96, kernel_size=(3,3), activation='relu'),\n",
    "    tf.keras.layers.MaxPooling2D(pool_size=(1,2), strides=(1,2), padding='same'),\n",
    "    tf.keras.layers.Conv2D(filters=96, kernel_size=(3,3), activation='relu'),\n",
    "    tf.keras.layers.MaxPooling2D(pool_size=(1,2), strides=(1,2), padding='same'),\n",
    "    tf.keras.layers.Conv2D(filters=128, kernel_size=(3,3), activation='relu'),\n",
    "    tf.keras.layers.MaxPooling2D(pool_size=(1,2), strides=(1,2), padding='same'),\n",
    "    tf.keras.layers.Conv2D(filters=128, kernel_size=(3,3), activation='relu'),\n",
    "    tf.keras.layers.Flatten(),\n",
    "    tf.keras.layers.Dense(128, activation=None), # No activation on final dense layer\n",
    "    tf.keras.layers.Lambda(lambda x: tf.math.l2_normalize(x, axis=1)) # L2 normalize embeddings\n",
    "    ])\n",
    "    return model\n",
    "\n",
    "def calculate_rank_n_accuracy(embeddings1, embeddings2, labels1, labels2, n):\n",
    "    correct_matches = 0\n",
    "    for i in range(len(embeddings1)):\n",
    "        # Compute Euclidean distances from embeddings1[i] to all embeddings2\n",
    "        distances = np.linalg.norm(embeddings2 - embeddings1[i], axis=1)\n",
    "        # Get the indices of the top n closest embeddings in embeddings2\n",
    "        closest_indices = np.argsort(distances)[:n]\n",
    "        # Check if the correct label is within these top n closest embeddings\n",
    "        if labels1[i] in labels2[closest_indices]:\n",
    "            correct_matches += 1\n",
    "    # Calculate accuracy\n",
    "    accuracy = correct_matches / len(embeddings1)\n",
    "    return accuracy\n",
    "\n"
   ]
  },
  {
   "cell_type": "markdown",
   "id": "232bd090",
   "metadata": {},
   "source": [
    "#### Recreate Model"
   ]
  },
  {
   "cell_type": "code",
   "execution_count": 3,
   "id": "bfa2d306",
   "metadata": {},
   "outputs": [
    {
     "name": "stderr",
     "output_type": "stream",
     "text": [
      "2024-04-11 20:19:18.706530: I tensorflow/core/common_runtime/gpu/gpu_device.cc:1929] Created device /job:localhost/replica:0/task:0/device:GPU:0 with 380 MB memory:  -> device: 0, name: NVIDIA A40, pci bus id: 0000:65:00.0, compute capability: 8.6\n"
     ]
    }
   ],
   "source": [
    "# Recreate the model architecture\n",
    "recreated_model = create_model()\n",
    "# Compile the recreated model\n",
    "recreated_model.compile(\n",
    "    optimizer=tf.keras.optimizers.Adam(0.001, beta_1=.9, beta_2=.999),\n",
    "    loss=tfa.losses.TripletSemiHardLoss()\n",
    ")\n",
    "# Load the weights\n",
    "recreated_model.load_weights('./saved_model/fpnet_v5.h5')"
   ]
  },
  {
   "cell_type": "markdown",
   "id": "db2fe3f6",
   "metadata": {},
   "source": [
    "#### Creating Image Dataset"
   ]
  },
  {
   "cell_type": "code",
   "execution_count": 4,
   "id": "97c2d910",
   "metadata": {},
   "outputs": [],
   "source": [
    "# Defining test folder location\n",
    "folders = [\"./images4_png_7-9/7-9\"]\n",
    "# Create a list of image paths\n",
    "image_paths = build_image_paths(folders)\n",
    "# Create a Dataset from the list of image paths\n",
    "image_paths_ds = tf.data.Dataset.from_tensor_slices(image_paths)\n",
    "# Create a list of image paths\n",
    "image_paths = build_image_paths(folders)\n",
    "# Create a Dataset from the list of image paths\n",
    "image_paths_ds = tf.data.Dataset.from_tensor_slices(image_paths)\n",
    "# Create images and labels\n",
    "images_ds = image_paths_ds.map(preprocess_image, num_parallel_calls=tf.data.experimental.AUTOTUNE)\n",
    "labels_ds = image_paths_ds.map(tf_parse_label_from_path, num_parallel_calls=tf.data.experimental.AUTOTUNE)"
   ]
  },
  {
   "cell_type": "markdown",
   "id": "60db0ff0",
   "metadata": {},
   "source": [
    "#### Splitting Dataset By User"
   ]
  },
  {
   "cell_type": "code",
   "execution_count": 5,
   "id": "9caa1e43",
   "metadata": {},
   "outputs": [],
   "source": [
    "# Placeholder for demonstration purposes\n",
    "def preprocess_image_2(image):\n",
    "    # Your preprocessing steps here\n",
    "    # For example, resizing if not already resized\n",
    "    return image\n",
    "\n",
    "# Assuming images_ds is your dataset of images\n",
    "# Apply preprocessing\n",
    "dataset = tf.data.Dataset.zip((images_ds, labels_ds))\n",
    "\n",
    "# Initialize containers for the split data\n",
    "images1, images2 = [], []\n",
    "labels1, labels2 = [], []\n",
    "\n",
    "# Example assuming dataset elements are structured as (image, label)\n",
    "# Remember: iterating like this loads the data into memory and may not be efficient for large datasets\n",
    "for image, label in dataset:\n",
    "    if len(images1) <= len(images2):\n",
    "        images1.append(image.numpy())  # Convert to numpy if necessary\n",
    "        labels1.append(label.numpy())\n",
    "    else:\n",
    "        images2.append(image.numpy())\n",
    "        labels2.append(label.numpy())"
   ]
  },
  {
   "cell_type": "markdown",
   "id": "fc23a784",
   "metadata": {},
   "source": [
    "#### Embedding Test Datasets"
   ]
  },
  {
   "cell_type": "code",
   "execution_count": null,
   "id": "8ba23fe1",
   "metadata": {},
   "outputs": [],
   "source": [
    "# Stacking tensors\n",
    "images1_tensor = tf.stack(images1, axis=0)\n",
    "images2_tensor = tf.stack(images2, axis=0)\n",
    "# Predict on images\n",
    "embeddings1 = recreated_model.predict(images1_tensor)\n",
    "embeddings2 = recreated_model.predict(images2_tensor)\n",
    "# Convert to numpy\n",
    "labels1 = np.array(labels1)\n",
    "labels2 = np.array(labels2)"
   ]
  },
  {
   "cell_type": "markdown",
   "id": "fec810e4",
   "metadata": {},
   "source": [
    "#### Calculate Rank N Accuracy"
   ]
  },
  {
   "cell_type": "code",
   "execution_count": null,
   "id": "d71c3571",
   "metadata": {},
   "outputs": [],
   "source": [
    "# Calculate rank-1 accuracy\n",
    "accuracy = calculate_rank_n_accuracy(embeddings1, embeddings2, labels1, labels2, 1)\n",
    "print(f\"Rank-1 Accuracy: {accuracy}\")"
   ]
  },
  {
   "cell_type": "markdown",
   "id": "69a82286",
   "metadata": {},
   "source": [
    "#### Save Embeddings "
   ]
  },
  {
   "cell_type": "code",
   "execution_count": null,
   "id": "3d27d19f",
   "metadata": {},
   "outputs": [],
   "source": [
    "np.savetxt('embeddings1_fpnet.csv', embeddings1, delimiter=',', header=','.join(['column{}'.format(i) for i in range(1, embeddings1.shape[1] + 1)]), comments='')\n",
    "np.savetxt('embeddings2_fpnet.csv', embeddings2, delimiter=',', header=','.join(['column{}'.format(i) for i in range(1, embeddings2.shape[1] + 1)]), comments='')"
   ]
  }
 ],
 "metadata": {
  "kernelspec": {
   "display_name": "virtualENV",
   "language": "python",
   "name": "virtualenv"
  },
  "language_info": {
   "codemirror_mode": {
    "name": "ipython",
    "version": 3
   },
   "file_extension": ".py",
   "mimetype": "text/x-python",
   "name": "python",
   "nbconvert_exporter": "python",
   "pygments_lexer": "ipython3",
   "version": "3.9.16"
  }
 },
 "nbformat": 4,
 "nbformat_minor": 5
}
